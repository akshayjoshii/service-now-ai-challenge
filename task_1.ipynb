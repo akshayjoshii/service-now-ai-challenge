{
 "cells": [
  {
   "cell_type": "markdown",
   "metadata": {},
   "source": [
    "**Quroa Question Pairs Dataset Stats:**\n",
    "\n",
    "Available Columns: id, qid1, qid2, question1, question2, is_duplicate\n",
    "\n",
    "Class labels: 0 (not paraphrases), 1 (paraphrases/duplicates)\n",
    "\n",
    "Total training data / No. of rows: 404290\n",
    "\n",
    "No. of columns: 6\n",
    "\n",
    "No. of non-duplicate data points is 255027\n",
    "\n",
    "No. of duplicate data points is 149263\n",
    "\n",
    "We have 404290 training data points. And only 36.92% are positive. That means it is an **imbalanced** dataset.\n"
   ]
  }
 ],
 "metadata": {
  "language_info": {
   "name": "python"
  },
  "orig_nbformat": 4
 },
 "nbformat": 4,
 "nbformat_minor": 2
}
